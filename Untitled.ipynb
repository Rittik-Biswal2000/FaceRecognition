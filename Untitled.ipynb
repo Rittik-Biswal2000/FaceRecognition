{
 "cells": [
  {
   "cell_type": "code",
   "execution_count": 25,
   "metadata": {},
   "outputs": [],
   "source": [
    "import urllib\n",
    "import cv2\n",
    "import numpy as np"
   ]
  },
  {
   "cell_type": "code",
   "execution_count": 26,
   "metadata": {},
   "outputs": [],
   "source": [
    "face_data=r\"haarcascade_frontalface_default.xml\""
   ]
  },
  {
   "cell_type": "code",
   "execution_count": 27,
   "metadata": {},
   "outputs": [],
   "source": [
    "classifier=cv2.CascadeClassifier(face_data)"
   ]
  },
  {
   "cell_type": "code",
   "execution_count": 28,
   "metadata": {},
   "outputs": [],
   "source": [
    "url=\"http://192.168.43.1:8080/shot.jpg\""
   ]
  },
  {
   "cell_type": "code",
   "execution_count": 29,
   "metadata": {},
   "outputs": [],
   "source": [
    "data=[]"
   ]
  },
  {
   "cell_type": "code",
   "execution_count": 30,
   "metadata": {},
   "outputs": [
    {
     "name": "stdout",
     "output_type": "stream",
     "text": [
      "1\n",
      "2\n",
      "3\n",
      "4\n",
      "5\n",
      "6\n",
      "7\n",
      "8\n",
      "9\n",
      "10\n",
      "11\n",
      "12\n",
      "13\n",
      "14\n",
      "15\n",
      "16\n",
      "17\n",
      "18\n",
      "19\n",
      "20\n",
      "21\n",
      "22\n",
      "23\n",
      "24\n",
      "25\n",
      "26\n",
      "27\n",
      "28\n",
      "29\n",
      "30\n",
      "31\n",
      "32\n",
      "33\n",
      "34\n",
      "35\n",
      "36\n",
      "37\n",
      "38\n",
      "39\n",
      "40\n",
      "41\n",
      "42\n",
      "43\n",
      "44\n",
      "45\n",
      "46\n",
      "47\n",
      "48\n",
      "49\n",
      "50\n",
      "51\n",
      "52\n",
      "53\n",
      "54\n",
      "55\n",
      "56\n",
      "57\n",
      "58\n",
      "59\n",
      "60\n",
      "61\n",
      "62\n",
      "63\n",
      "64\n",
      "65\n",
      "66\n",
      "67\n",
      "68\n",
      "69\n",
      "70\n",
      "71\n",
      "72\n",
      "73\n",
      "74\n",
      "75\n",
      "76\n",
      "77\n",
      "78\n",
      "79\n",
      "80\n",
      "81\n",
      "82\n",
      "83\n",
      "84\n",
      "85\n",
      "86\n",
      "87\n",
      "88\n",
      "89\n",
      "90\n",
      "91\n",
      "92\n",
      "93\n",
      "94\n",
      "95\n",
      "96\n",
      "97\n",
      "98\n",
      "99\n",
      "100\n",
      "Enter the name : Rachel\n",
      "Complete\n"
     ]
    }
   ],
   "source": [
    "while len(data)<100:\n",
    "    image_from_url=urllib.request.urlopen(url)\n",
    "    frame=np.array(bytearray(image_from_url.read()),np.uint8)\n",
    "    frame=cv2.imdecode(frame,-1)\n",
    "    faces=classifier.detectMultiScale(frame,1.5,5)\n",
    "    if len(faces)>0:\n",
    "        for x,y,w,h in faces:\n",
    "            face_frame=frame[y:y+h,x:x+w].copy()\n",
    "            cv2.imshow(\"only_face\",face_frame)\n",
    "            \n",
    "            if len(data)<=100:\n",
    "                print(len(data)+1)\n",
    "                data.append(face_frame)\n",
    "            else:\n",
    "                break\n",
    "    cv2.imshow('capture',frame)\n",
    "    if cv2.waitKey(30)==ord(\"a\"):\n",
    "        break\n",
    "cv2.destroyAllWindows()\n",
    "if len(data)==100:\n",
    "    name=input(\"Enter the name : \")\n",
    "    for i in range(100):\n",
    "        cv2.imwrite(\"Images/\"+name+\"_\"+str(i+1)+\".jpg\",data[i])\n",
    "    print(\"Complete\")\n",
    "else:\n",
    "    print(\"Need more data\")"
   ]
  },
  {
   "cell_type": "code",
   "execution_count": null,
   "metadata": {},
   "outputs": [],
   "source": []
  }
 ],
 "metadata": {
  "kernelspec": {
   "display_name": "Python 3.8.2 64-bit",
   "language": "python",
   "name": "python38264bit12943f7b46154ae190be0d7d50eedb23"
  },
  "language_info": {
   "codemirror_mode": {
    "name": "ipython",
    "version": 3
   },
   "file_extension": ".py",
   "mimetype": "text/x-python",
   "name": "python",
   "nbconvert_exporter": "python",
   "pygments_lexer": "ipython3",
   "version": "3.8.2"
  }
 },
 "nbformat": 4,
 "nbformat_minor": 4
}
